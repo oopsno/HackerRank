{
 "cells": [
  {
   "cell_type": "markdown",
   "metadata": {},
   "source": [
    "# 标准差\n",
    "\n",
    "## Standard Deviation Puzzles #1\n",
    "\n",
    "> Find the largest possible value of $N$ where the standard deviation of the values in the set $\\left\\{1, 2, 3, N\\right\\}$ is equal to the standard deviation of the values in the set $\\left\\{1, 2, 3\\right\\}$.\n",
    "\n",
    "解方程\n",
    "$$\\sigma^2(\\left\\{1, 2, 3, N\\right\\}) = \\sigma^2(\\left\\{1, 2, 3\\right\\}) = \\frac{2}{3}$$\n",
    "即\n",
    "$$\\frac{3 n^{2}}{16} - \\frac{3 n}{4} + \\frac{7}{12} = 0$$"
   ]
  },
  {
   "cell_type": "code",
   "execution_count": 1,
   "metadata": {
    "collapsed": false
   },
   "outputs": [
    {
     "name": "stdout",
     "output_type": "stream",
     "text": [
      "2.94280904158206\n"
     ]
    }
   ],
   "source": [
    "def std1():\n",
    "    import sympy as sp\n",
    "    from sympy.abc import n\n",
    "    from fractions import Fraction\n",
    "    var3 = Fraction(2, 3)\n",
    "    mean4 = (6 + n) / 4\n",
    "    var4 = sum((mean4 - i) ** 2 for i in [1, 2, 3, n]) / 4\n",
    "    return max(sp.solve(var3 - var4, n)).evalf()\n",
    "\n",
    "print(std1())"
   ]
  },
  {
   "cell_type": "markdown",
   "metadata": {},
   "source": [
    "## Standard Deviation Puzzles #2\n",
    "\n",
    "> The heights of a group of children are measured. The resulting data has a mean of $0.675$ meters, and a standard deviation of $0.065$ meters. One particular child is $90.25$ centimeters tall. Compute , the number of standard deviations away from the mean that the particular child is.\n",
    "> In the answer box, enter the value of $\\sigma$, correct to one place of decimal."
   ]
  },
  {
   "cell_type": "code",
   "execution_count": 2,
   "metadata": {
    "collapsed": false
   },
   "outputs": [
    {
     "name": "stdout",
     "output_type": "stream",
     "text": [
      "3.4999999999999987\n"
     ]
    }
   ],
   "source": [
    "def std2():\n",
    "    mu     = 0.675\n",
    "    sigma  = 0.065\n",
    "    sample = 0.9025\n",
    "    return abs(sample - mu) / sigma\n",
    "\n",
    "print(std2())"
   ]
  },
  {
   "cell_type": "markdown",
   "metadata": {},
   "source": [
    "## Standard Deviation Puzzles - 3\n",
    "\n",
    "> Let $X$ and $Y$ be two independent \"normal\" random deviates with mean and standard deviation $10$ and $3$, and $20$ and $4$, respectively. Let $\\sigma$ be the value of the standard deviation of the distribution obtained by adding the two distributions $(X + Y)$.\n",
    "\n",
    "> In the answer box, enter the value of $\\sigma$, correct to one place of decimal.\n",
    "\n",
    "See: [Sum of normally distributed random variables](https://en.wikipedia.org/wiki/Sum_of_normally_distributed_random_variables)"
   ]
  },
  {
   "cell_type": "code",
   "execution_count": 3,
   "metadata": {
    "collapsed": false
   },
   "outputs": [
    {
     "name": "stdout",
     "output_type": "stream",
     "text": [
      "5.0\n"
     ]
    }
   ],
   "source": [
    "def std3():\n",
    "    from math import sqrt\n",
    "    return sqrt(3 ** 2 + 4 ** 2)\n",
    "\n",
    "print(std3())"
   ]
  },
  {
   "cell_type": "markdown",
   "metadata": {},
   "source": [
    "## Standard Deviation Puzzles - 4\n",
    "\n",
    "> Let $X$ and $Y$ be two independent \"normal\" random deviates with mean and standard deviation $10$ and $3$, and $20$ and $4$, respectively. Let $\\sigma$ be the value of the standard deviation of the distribution obtained by adding the two distributions $(X - Y)$.\n",
    "\n",
    "> In the answer box, enter the value of $\\sigma$, correct to one place of decimal.\n",
    "\n",
    "See: [Sum of normally distributed random variables](https://en.wikipedia.org/wiki/Sum_of_normally_distributed_random_variables)"
   ]
  },
  {
   "cell_type": "code",
   "execution_count": 4,
   "metadata": {
    "collapsed": false
   },
   "outputs": [
    {
     "name": "stdout",
     "output_type": "stream",
     "text": [
      "5.0\n"
     ]
    }
   ],
   "source": [
    "def std4():\n",
    "    from math import sqrt\n",
    "    return sqrt(3 ** 2 + 4 ** 2)\n",
    "\n",
    "print(std4())"
   ]
  },
  {
   "cell_type": "markdown",
   "metadata": {},
   "source": [
    "## Standard Deviation Puzzles - 5\n",
    "\n",
    "> If $10$ points were added to each of the $500$ scores in a sample having a mean of $45$ and standard deviation of $10$, the new value of the standard deviation for the sample would be: $S$.\n",
    "\n",
    "> In the answer box, enter the value of $S$, correct to one place of decimal."
   ]
  },
  {
   "cell_type": "code",
   "execution_count": 5,
   "metadata": {
    "collapsed": false
   },
   "outputs": [
    {
     "name": "stdout",
     "output_type": "stream",
     "text": [
      "10\n"
     ]
    }
   ],
   "source": [
    "def std5():\n",
    "    return 10\n",
    "\n",
    "print(std5())"
   ]
  },
  {
   "cell_type": "markdown",
   "metadata": {},
   "source": [
    "## Standard Deviation Puzzles - 6\n",
    "\n",
    "> If we double (multiply by $2$) each of the $500$ scores in a sample having a mean of $45$ and standard deviation of $10$, the new value of the standard deviation for the sample would be: $S$.\n",
    "\n",
    "> In the answer box, enter the value of $S$, correct to one place of decimal."
   ]
  },
  {
   "cell_type": "code",
   "execution_count": 6,
   "metadata": {
    "collapsed": false
   },
   "outputs": [
    {
     "name": "stdout",
     "output_type": "stream",
     "text": [
      "20\n"
     ]
    }
   ],
   "source": [
    "def std6():\n",
    "    from math import sqrt\n",
    "    return 2 * 10\n",
    "\n",
    "print(std6())"
   ]
  }
 ],
 "metadata": {
  "kernelspec": {
   "display_name": "Python 3",
   "language": "python",
   "name": "python3"
  },
  "language_info": {
   "codemirror_mode": {
    "name": "ipython",
    "version": 3
   },
   "file_extension": ".py",
   "mimetype": "text/x-python",
   "name": "python",
   "nbconvert_exporter": "python",
   "pygments_lexer": "ipython3",
   "version": "3.6.1"
  }
 },
 "nbformat": 4,
 "nbformat_minor": 2
}
