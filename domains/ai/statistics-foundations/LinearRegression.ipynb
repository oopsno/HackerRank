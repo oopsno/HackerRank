{
 "cells": [
  {
   "cell_type": "markdown",
   "metadata": {},
   "source": [
    "# 线性回归\n",
    "\n",
    "使用最小二乘法估计\n",
    "\n",
    "$$ \\hat{Y_i} = a + bx_i $$\n",
    "\n",
    "时，尝试最小化 $L_2$ 距离\n",
    "\n",
    "$$ L(a, b) = \\sum_{i=1}^{n}(Y_i - \\bar{Y_i})^2 = \\sum_{i=1}^{n}(Y_i - a - bx_i)^2 $$\n",
    "\n",
    "令$L$对$a$、$b$的偏微分分别为0，则\n",
    "\n",
    "$$ \\frac{\\partial{L}}{\\partial{a}} = -2 \\sum_{i=1}^{n}(Y_i - a - bx_i) = 0 \\Leftrightarrow \\sum_{i=1}^{n}(Y_i - a - bx_i) = 0 $$\n",
    "\n",
    "$$ \\frac{\\partial{L}}{\\partial{b}} = -2 \\sum_{i=1}^{n}x_i(Y_i - a - bx_i) = 0 \\Leftrightarrow \\sum_{i=1}^{n}x_i(Y_i - a - bx_i) = 0 $$\n",
    "\n",
    "解得\n",
    "\n",
    "$$\n",
    "\\begin{array}\n",
    "    \\hat{a} & = & \\bar{Y} - \\frac{S_{XY}}{S_{XX}}\\cdot\\bar{X} \\\\\n",
    "    \\hat{b} & = & \\frac{S_{XY}}{S_{XX}}\n",
    "\\end{array}\n",
    "$$\n",
    "\n",
    "其中\n",
    "\n",
    "$$\n",
    "\\begin{array}\n",
    "    S_{XY} & = & \\sum_{i=1}^{n}(Y_i - \\bar{Y})(x_i - \\bar{x}) \\\\\n",
    "    S_{XX} & = & \\sum_{i=1}^{n}(x_i - \\bar{x})^2\n",
    "\\end{array}\n",
    "$$\n",
    "\n",
    "\n",
    "## Correlation and Regression Lines #1\n",
    "\n",
    "> For a particular scatter plot, the line of regression of $y$ on $x$ is:\n",
    "$$ 3x + 4y + 8 = 0$$\n",
    "And the line of regression of $x$ on $y$ is:\n",
    "$$ 4x + 3y + 7 = 0$$\n",
    "Find the Pearson Product moment coefficient, , correct to a scale of  decimal places.\n",
    "\n",
    "从回归方程解出\n",
    "\n",
    "$$ \\frac{S_{XY}}{S_{XX}} = \\frac{S_{YX}}{S_{YY}} = -\\frac{3}{4} $$\n",
    "\n",
    "Pearson 相关系数\n",
    "\n",
    "$$ r_{XY} = \\frac{S_{XY}}{\\sqrt{S_{XX}S_{YY}}} =  -\\frac{3}{4}$$\n",
    "\n",
    "## Correlation and Regression Lines #2\n",
    "\n",
    "> There are $2$ series of data inolving index numbers: $P$ for price index and $S$ for the commodity stock. \n",
    "\n",
    "> The mean and standard deviation of $P$ are $100$ and $8$, respectively.\n",
    "\n",
    "> The mean and standard deviation of $S$ are $103$ and $4$, respectively. \n",
    "\n",
    "> The $R^2$ correlation coefficient between the two series is $0.4$.\n",
    "\n",
    "> With this data, obtain the slope of the regression line of $P$ on $S$, correct to a scale of $2$ decimal places.\n",
    "\n",
    "由 Pearson 相关系数\n",
    "\n",
    "$$ R^2 = \\frac{S_{SP}^2}{S_{SS}S_{PP}} = 0.4 $$\n",
    "\n",
    "由最小二乘法的估计过程：\n",
    "\n",
    "$$\n",
    "\\begin{array}\n",
    "    \\hat{b} & = & \\frac{S_{SP}}{S_{SS}}     \\\\\n",
    "            & = & \\sqrt{\\frac{S_{SP}^2}{S_{SS}S_{PP}}\\frac{S_{PP}}{S_{SS}}} \\\\\n",
    "            & = & \\sqrt{R^2\\frac{n\\sigma^2_P}{n\\sigma^2_S}} \\\\\n",
    "            & = & R\\frac{\\sigma_P}{\\sigma_S} \\\\\n",
    "            & = & 2\\sqrt{0.4}\n",
    "\\end{array}\n",
    "$$"
   ]
  },
  {
   "cell_type": "code",
   "execution_count": 1,
   "metadata": {
    "collapsed": false
   },
   "outputs": [
    {
     "name": "stdout",
     "output_type": "stream",
     "text": [
      "1.2649110640673518\n"
     ]
    }
   ],
   "source": [
    "from math import sqrt\n",
    "print(2 * sqrt(0.4))"
   ]
  },
  {
   "cell_type": "markdown",
   "metadata": {},
   "source": [
    "## Correlation and Regression Lines #3\n",
    "\n",
    "> The two regression lines of a bivariate distribution are: $4x – 5y + 33 = 0$ and $20x – 9y – 107 = 0$.\n",
    "\n",
    "> Calculate the arithmetic means of $x$ and $y$ respectively. (Both of these are integer values.)\n",
    "\n",
    "由最小二乘法估计的回归线必过样本均值点。"
   ]
  },
  {
   "cell_type": "code",
   "execution_count": 2,
   "metadata": {
    "collapsed": false
   },
   "outputs": [
    {
     "name": "stdout",
     "output_type": "stream",
     "text": [
      "{x: 13, y: 17}\n"
     ]
    }
   ],
   "source": [
    "def rl3():\n",
    "    from sympy.abc import x, y\n",
    "    from sympy import solve\n",
    "    print(solve([4 * x - 5 * y + 33, 20 * x - 9 * y - 107]))\n",
    "\n",
    "rl3()"
   ]
  }
 ],
 "metadata": {
  "kernelspec": {
   "display_name": "Python 3",
   "language": "python",
   "name": "python3"
  },
  "language_info": {
   "codemirror_mode": {
    "name": "ipython",
    "version": 3
   },
   "file_extension": ".py",
   "mimetype": "text/x-python",
   "name": "python",
   "nbconvert_exporter": "python",
   "pygments_lexer": "ipython3",
   "version": "3.6.1"
  }
 },
 "nbformat": 4,
 "nbformat_minor": 2
}
