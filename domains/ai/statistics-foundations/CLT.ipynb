{
 "cells": [
  {
   "cell_type": "markdown",
   "metadata": {
    "deletable": true,
    "editable": true
   },
   "source": [
    "# 中心极限定理\n",
    "\n",
    "## The Central Limit Theorem #1\n",
    "\n",
    "> A large elevator can transport a maximum of $9800$ pounds.\n",
    "> Suppose a load of cargo containing $n = 49$ boxes must be transported via the elevator.\n",
    "> The box weight of this type of cargo follows a distribution with a mean of $\\mu = 205$ pounds and a standard deviation of $\\sigma = 15$ pounds.\n",
    "> Based on this information, what is the probability that all boxes can be safely loaded onto the freight elevator and transported.\n",
    "\n",
    "令$$W_n=\\sum^{n}_{i}{w_i}, S_n = \\frac{W_n / n - \\mu}{\\sigma / \\sqrt{n}}$$\n",
    "其中$W_n$是$n$个箱子的总质量，其标准化结果为$S_n$。由CLT\n",
    "$$P(W_n \\le 9800) = P(S_n \\le -\\frac{7}{3}) = \\Phi(-\\frac{7}{3})$$\n"
   ]
  },
  {
   "cell_type": "code",
   "execution_count": 1,
   "metadata": {
    "collapsed": false,
    "deletable": true,
    "editable": true
   },
   "outputs": [
    {
     "name": "stdout",
     "output_type": "stream",
     "text": [
      "0.00981532862865\n"
     ]
    }
   ],
   "source": [
    "from scipy.stats import norm\n",
    "\n",
    "print(norm.cdf(-7/3))"
   ]
  },
  {
   "cell_type": "markdown",
   "metadata": {
    "deletable": true,
    "editable": true
   },
   "source": [
    "## The Central Limit Theorem #2\n",
    "\n",
    "> The number of tickets purchased by each student for the University X vs. University Y football game follows a distribution that has a mean of $\\mu=2.4$ and a standard deviation of $\\sigma = 2.0$.\n",
    "\n",
    "> Suppose that a few hours before the game starts, there are $n=100$ eager students standing in line to purchase tickets. If there are only $T=250$ tickets left, what is the probability that all $100$ students will be able to purchase the tickets they want?\n",
    "\n",
    "令$$T_n=\\sum^{n}_{i}{t_i}, S_n = \\frac{W_n / n - \\mu}{\\sigma / \\sqrt{n}}$$\n",
    "其中$T_n$是$n$人购买的门票总数，其标准化结果为$S_n$。由CLT\n",
    "$$P(T_n \\le T) = P(S_n \\le \\frac{1}{2}) = \\Phi(\\frac{1}{2})$$\n",
    "\n"
   ]
  },
  {
   "cell_type": "code",
   "execution_count": 2,
   "metadata": {
    "collapsed": false,
    "deletable": true,
    "editable": true
   },
   "outputs": [
    {
     "name": "stdout",
     "output_type": "stream",
     "text": [
      "0.691462461274\n"
     ]
    }
   ],
   "source": [
    "print(norm.cdf(1/2))"
   ]
  },
  {
   "cell_type": "markdown",
   "metadata": {
    "deletable": true,
    "editable": true
   },
   "source": [
    "## The Central Limit Theorem #2\n",
    "\n",
    "> You have a sample of 100 values from a population with mean $\\mu = 500$ and with standard deviation $\\sigma = 80$. What is the probability that the sample mean will be in the interval $(490, 510)$?\n",
    "\n",
    "记$${\\bar {X}}={\\frac {1}{n}}\\sum _{i=1}^{n}X_{i}， \\zeta _{n}={\\frac {{\\bar {X}}-\\mu }{\\sigma /{\\sqrt {n}}}}$$则$$P\\left(490 \\leq \\bar{X} \\leq 510 \\right) = P\\left(-\\frac{5}{4} \\leq \\zeta_{n} \\leq \\frac{5}{4} \\right) = \\Phi \\left(\\frac{5}{4}\\right) - \\Phi \\left(-\\frac{5}{4}\\right)$$"
   ]
  },
  {
   "cell_type": "code",
   "execution_count": 3,
   "metadata": {
    "collapsed": false,
    "deletable": true,
    "editable": true
   },
   "outputs": [
    {
     "name": "stdout",
     "output_type": "stream",
     "text": [
      "0.788700452666\n"
     ]
    }
   ],
   "source": [
    "print(norm.cdf(10/8) - norm.cdf(-10/8))"
   ]
  },
  {
   "cell_type": "markdown",
   "metadata": {
    "deletable": true,
    "editable": true
   },
   "source": [
    "## The Central Limit Theorem #4\n",
    "\n",
    "> You have a sample of 100 values from a population with mean $\\mu = 500$ and with standard deviation $\\sigma = 80$. Compute the interval that covers the middle $95\\%$ of the distribution of the sample mean. i.e, compute  and such that $P(A < x < B) = 0.95$.\n",
    "\n",
    "由CLT，$A + B = 1000$, 且\n",
    "$$\\frac{A-\\mu}{\\sigma / 10} = \\Phi^{-1}(\\frac{1 - 0.95}{2})$$"
   ]
  },
  {
   "cell_type": "code",
   "execution_count": 4,
   "metadata": {
    "collapsed": false,
    "deletable": true,
    "editable": true
   },
   "outputs": [
    {
     "name": "stdout",
     "output_type": "stream",
     "text": [
      "484.320288124\n",
      "515.679711876\n"
     ]
    }
   ],
   "source": [
    "def clt4():\n",
    "    mu    = 500\n",
    "    sigma = 80\n",
    "    A = norm.ppf((1-0.95) / 2) * (sigma / 10) + mu\n",
    "    return A, 1000 - A\n",
    "\n",
    "print(*clt4(), sep='\\n')"
   ]
  },
  {
   "cell_type": "markdown",
   "metadata": {
    "deletable": true,
    "editable": true
   },
   "source": [
    "## The Central Limit Theorem #5\n",
    "\n",
    "> The amount of regular unleaded gas purchased every week at a particular gas station follows the normal distribution with a mean of $5 \\times 10^4$ gallons and a standard deviation of $1 \\times 10^4$ gallons. The starting supply of gasoline is $7.4 \\times 10^4$ gallons, and there is a scheduled weekly delivery of $4.7 \\times 10^4$ gallons. Compute the probability that, after $11$ weeks, the supply of gasoline will be below $2 \\times 10^4$ gallons."
   ]
  },
  {
   "cell_type": "code",
   "execution_count": 5,
   "metadata": {
    "collapsed": false,
    "deletable": true,
    "editable": true
   },
   "outputs": [
    {
     "name": "stdout",
     "output_type": "stream",
     "text": [
      "0.263310068805\n"
     ]
    }
   ],
   "source": [
    "from math import sqrt\n",
    "\n",
    "def clt5():\n",
    "    n     = 11\n",
    "    mu    = 5.0\n",
    "    sigma = 1.0\n",
    "    x_bar_min = (7.4 + 11 * 4.7 - 2) / n\n",
    "    x_bar_min_std = (x_bar_min - mu) / (sigma / sqrt(n))\n",
    "    return 1 - norm.cdf(x_bar_min_std)\n",
    "\n",
    "print(clt5())"
   ]
  },
  {
   "cell_type": "markdown",
   "metadata": {
    "deletable": true,
    "editable": true
   },
   "source": [
    "## The Central Limit Theorem #6\n",
    "\n",
    "> The amount of regular unleaded gas purchased every week at a particular gas station follows the normal distribution with a mean of $5 \\times 10^4$ gallons and a standard deviation of $10^4$ gallons. The starting supply of gasoline is $7.4 \\times 10^4$ gallons, and there is a scheduled weekly delivery of $4.7 \\times 10^4$ gallons. How many gallons should the weekly delivery be so that after 11 weeks the probability that the supply is below $2\\times 10^4$ gallons is only 0.5%?\n",
    "\n"
   ]
  },
  {
   "cell_type": "code",
   "execution_count": 6,
   "metadata": {
    "collapsed": false,
    "deletable": true,
    "editable": true
   },
   "outputs": [
    {
     "name": "stdout",
     "output_type": "stream",
     "text": [
      "52857.3266581\n"
     ]
    }
   ],
   "source": [
    "def clt6():\n",
    "    n     = 11\n",
    "    mu    = 5.0\n",
    "    sigma = 1.0\n",
    "    x_bar_min_std = norm.ppf(0.995)\n",
    "    supply = ((x_bar_min_std * (1/sqrt(n)) + mu) * 11 - 7.4 + 2) / 11\n",
    "    return supply\n",
    "\n",
    "print(clt6() * 1e4)"
   ]
  }
 ],
 "metadata": {
  "kernelspec": {
   "display_name": "Python 3",
   "language": "python",
   "name": "python3"
  },
  "language_info": {
   "codemirror_mode": {
    "name": "ipython",
    "version": 3
   },
   "file_extension": ".py",
   "mimetype": "text/x-python",
   "name": "python",
   "nbconvert_exporter": "python",
   "pygments_lexer": "ipython3",
   "version": "3.6.1"
  }
 },
 "nbformat": 4,
 "nbformat_minor": 2
}
